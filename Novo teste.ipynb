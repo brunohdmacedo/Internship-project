{
 "cells": [
  {
   "cell_type": "code",
   "execution_count": 7,
   "id": "19962daf",
   "metadata": {},
   "outputs": [
    {
     "name": "stdout",
     "output_type": "stream",
     "text": [
      "Erro ao abrir a porta serial: could not open port 'COM11': PermissionError(13, 'Acesso negado.', None, 5)\n"
     ]
    }
   ],
   "source": [
    "import serial\n",
    "import time\n",
    "from datetime import datetime\n",
    "from openpyxl import Workbook, load_workbook\n",
    "\n",
    "# Configurações\n",
    "PORT = 'COM11'  # Substitua pela porta correta do seu Arduino\n",
    "BAUD_RATE = 9600\n",
    "\n",
    "# Configurações do controle de temperatura\n",
    "SETPOINT = 120.0  # Define o setpoint da temperatura\n",
    "HISTERESE = 2.0  # Define a faixa de histerese\n",
    "\n",
    "# Nome do arquivo\n",
    "FILE_NAME = 'dados_arduino.xlsx'\n",
    "\n",
    "def verifica_setpoint(temperatura_corrigida):\n",
    "    \"\"\"\n",
    "    Função para verificar o status do setpoint:\n",
    "    Retorna:\n",
    "    - Status do Setpoint: 'Não chegou ainda' ou 'Já passou'\n",
    "    - Acionamento da Resistência: 1 (ligada) ou 0 (desligada)\n",
    "    \"\"\"\n",
    "    if temperatura_corrigida < SETPOINT - HISTERESE:\n",
    "        return \"Não chegou ainda\", 1  # Resistência ligada (1) quando abaixo do setpoint\n",
    "    elif temperatura_corrigida > SETPOINT + HISTERESE:\n",
    "        return \"Já passou\", 0  # Resistência desligada (0) quando acima do setpoint\n",
    "    else:\n",
    "        return \"No Setpoint\", 0  # Resistência desligada (0) quando dentro do setpoint\n",
    "\n",
    "def configurar_conexao_serial(port, baud_rate):\n",
    "    try:\n",
    "        return serial.Serial(port, baud_rate)\n",
    "    except serial.SerialException as e:\n",
    "        print(f\"Erro ao abrir a porta serial: {e}\")\n",
    "        return None\n",
    "\n",
    "def carregar_arquivo_excel(file_name):\n",
    "    try:\n",
    "        return load_workbook(file_name)\n",
    "    except FileNotFoundError:\n",
    "        return Workbook()\n",
    "\n",
    "def criar_aba(wb, sheet_index):\n",
    "    sheet_name = f'Teste_{sheet_index}'\n",
    "    return wb.create_sheet(title=sheet_name)\n",
    "\n",
    "def processar_dados(ser, ws, wb):\n",
    "    while True:\n",
    "        try:\n",
    "            linha = ser.readline().decode('utf-8').strip()\n",
    "            if linha and \"Temp. Bruta\" in linha:\n",
    "                print(f\"Recebido: {linha}\")\n",
    "                partes = linha.split(',')\n",
    "                temp_bruta = partes[0].split(':')[1].strip().split()[0]  # Temperatura Bruta\n",
    "                temp_corrigida = float(partes[1].split(':')[1].strip().split()[0])  # Temperatura Corrigida\n",
    "                temp_ambiente = partes[2].split(':')[1].strip().split()[0]  # Temperatura Ambiente\n",
    "                \n",
    "                hora_atual = datetime.now().strftime('%H:%M')\n",
    "                \n",
    "                status_setpoint, resistencia_status = verifica_setpoint(temp_corrigida)\n",
    "                \n",
    "                ws.append([hora_atual, temp_bruta, temp_corrigida, temp_ambiente, status_setpoint, resistencia_status])\n",
    "                \n",
    "                print(f\"Hora: {hora_atual}, Temp Bruta: {temp_bruta} C, Temp Corrigida: {temp_corrigida} C, Temp Ambiente: {temp_ambiente} C, Status: {status_setpoint}, Resistência: {resistencia_status}\")\n",
    "                \n",
    "                # Salva o arquivo Excel a cada iteração para garantir que os dados não se percam\n",
    "                wb.save(FILE_NAME)\n",
    "        except Exception as e:\n",
    "            print(f\"Erro ao ler dados: {e}\")\n",
    "\n",
    "def main():\n",
    "    ser = configurar_conexao_serial(PORT, BAUD_RATE)\n",
    "    if ser:\n",
    "        time.sleep(2)  # Espera o Arduino inicializar\n",
    "        \n",
    "        wb = carregar_arquivo_excel(FILE_NAME)\n",
    "        sheet_index = len(wb.sheetnames) + 1 if wb else 1\n",
    "        ws = criar_aba(wb, sheet_index)\n",
    "        ws.append(['Hora', 'Temperatura Bruta (C)', 'Temperatura Corrigida (C)', 'Temperatura Ambiente (C)', 'Status do Setpoint', 'Acionamento da Resistência (1=Ligada, 0=Desligada)'])\n",
    "        \n",
    "        print(f\"Conectado à porta {PORT}. Começando a coletar dados...\")\n",
    "        \n",
    "        processar_dados(ser, ws, wb)\n",
    "        \n",
    "        ser.close()\n",
    "\n",
    "if __name__ == \"__main__\":\n",
    "    main()\n"
   ]
  },
  {
   "cell_type": "code",
   "execution_count": 2,
   "id": "b2796c8b",
   "metadata": {},
   "outputs": [
    {
     "name": "stdout",
     "output_type": "stream",
     "text": [
      "       Unnamed: 0      y      x\n",
      "0             NaN  56.39  15:27\n",
      "1             NaN  57.10  15:27\n",
      "2             NaN  56.86  15:27\n",
      "3             NaN  56.86  15:27\n",
      "4             NaN  57.10  15:27\n",
      "...           ...    ...    ...\n",
      "23343         NaN  73.75  16:44\n",
      "23344         NaN  74.21  16:44\n",
      "23345         NaN  73.98  16:44\n",
      "23346         NaN  73.51  16:44\n",
      "23347         NaN  73.51  16:44\n",
      "\n",
      "[23348 rows x 3 columns]\n"
     ]
    },
    {
     "name": "stderr",
     "output_type": "stream",
     "text": [
      "C:\\Users\\bruno\\AppData\\Local\\Temp\\ipykernel_16340\\1550114014.py:29: UserWarning: Pandas requires version '3.0.5' or newer of 'xlsxwriter' (version '3.0.3' currently installed).\n",
      "  df.to_excel(\"dados_com_x.xlsx\", index=False)\n"
     ]
    }
   ],
   "source": [
    "import pandas as pd\n",
    "from datetime import datetime, timedelta\n",
    "\n",
    "# Carrega a tabela de valores de y a partir de um arquivo .xlsx\n",
    "# Certifique-se de que o arquivo tenha uma coluna chamada \"y\"\n",
    "df = pd.read_excel(\"dados2.xlsx\")  # Substitua \"dados.xlsx\" pelo nome do seu arquivo\n",
    "\n",
    "# Obtém o número de dados em y\n",
    "y = df[\"y\"].tolist()\n",
    "n = len(y)\n",
    "\n",
    "# Define o horário inicial e final\n",
    "start_time = datetime.strptime(\"15:27\", \"%H:%M\")\n",
    "end_time = datetime.strptime(\"16:45\", \"%H:%M\")\n",
    "\n",
    "# Calcula o intervalo de tempo entre cada ponto\n",
    "time_interval = (end_time - start_time) / (n - 1)\n",
    "\n",
    "# Gera a lista de horários para o eixo x\n",
    "x = [start_time + i * time_interval for i in range(n)]\n",
    "\n",
    "# Adiciona a coluna x à tabela\n",
    "df[\"x\"] = [time.strftime(\"%H:%M\") for time in x]\n",
    "\n",
    "# Exibe a tabela resultante\n",
    "print(df)\n",
    "\n",
    "# Salva a nova tabela em um novo arquivo .xlsx, caso queira guardar o resultado\n",
    "df.to_excel(\"dados_com_x.xlsx\", index=False)\n"
   ]
  },
  {
   "cell_type": "code",
   "execution_count": 5,
   "id": "2fc6d4b3",
   "metadata": {},
   "outputs": [
    {
     "name": "stdout",
     "output_type": "stream",
     "text": [
      "Defaulting to user installation because normal site-packages is not writeable\n",
      "Requirement already satisfied: openpyxl in c:\\programdata\\anaconda3\\lib\\site-packages (3.0.9)\n",
      "Requirement already satisfied: pd in c:\\users\\bruno\\appdata\\roaming\\python\\python39\\site-packages (0.0.4)\n",
      "Requirement already satisfied: et-xmlfile in c:\\programdata\\anaconda3\\lib\\site-packages (from openpyxl) (1.1.0)\n"
     ]
    }
   ],
   "source": [
    "!pip install openpyxl pd"
   ]
  },
  {
   "cell_type": "code",
   "execution_count": 6,
   "id": "685260ae",
   "metadata": {},
   "outputs": [
    {
     "name": "stdout",
     "output_type": "stream",
     "text": [
      "Defaulting to user installation because normal site-packages is not writeable\n",
      "Requirement already satisfied: openpyxl in c:\\programdata\\anaconda3\\lib\\site-packages (3.0.9)\n",
      "Collecting openpyxl\n",
      "  Downloading openpyxl-3.1.5-py2.py3-none-any.whl (250 kB)\n",
      "Requirement already satisfied: et-xmlfile in c:\\programdata\\anaconda3\\lib\\site-packages (from openpyxl) (1.1.0)\n",
      "Installing collected packages: openpyxl\n",
      "Successfully installed openpyxl-3.1.5\n",
      "Note: you may need to restart the kernel to use updated packages.\n"
     ]
    }
   ],
   "source": [
    "pip install --upgrade openpyxl\n"
   ]
  },
  {
   "cell_type": "code",
   "execution_count": null,
   "id": "99531fa0",
   "metadata": {},
   "outputs": [],
   "source": []
  }
 ],
 "metadata": {
  "kernelspec": {
   "display_name": "Python 3 (ipykernel)",
   "language": "python",
   "name": "python3"
  },
  "language_info": {
   "codemirror_mode": {
    "name": "ipython",
    "version": 3
   },
   "file_extension": ".py",
   "mimetype": "text/x-python",
   "name": "python",
   "nbconvert_exporter": "python",
   "pygments_lexer": "ipython3",
   "version": "3.9.12"
  }
 },
 "nbformat": 4,
 "nbformat_minor": 5
}
